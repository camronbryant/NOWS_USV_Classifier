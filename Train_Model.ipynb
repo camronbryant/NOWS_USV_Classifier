{
 "cells": [
  {
   "cell_type": "markdown",
   "id": "81caf228-5dc3-44a4-9b88-a4f24c9944a3",
   "metadata": {},
   "source": [
    "### 1. Import packages and training data "
   ]
  },
  {
   "cell_type": "code",
   "execution_count": 1,
   "id": "37a4e5ba-c928-4b3e-ad4e-c5af7220632f",
   "metadata": {
    "tags": []
   },
   "outputs": [],
   "source": [
    "import os\n",
    "import pandas as pd \n",
    "import numpy as np\n",
    "import openpyxl\n",
    "import matplotlib.pyplot as plt\n",
    "import sklearn\n",
    "from sklearn import tree\n",
    "from sklearn.preprocessing import OneHotEncoder, LabelEncoder\n",
    "from sklearn.model_selection import train_test_split\n",
    "from sklearn.tree import DecisionTreeClassifier\n",
    "from sklearn import preprocessing\n",
    "from sklearn.ensemble import RandomForestRegressor\n",
    "from sklearn import metrics\n",
    "from sklearn.ensemble import RandomForestClassifier\n",
    "import joblib\n",
    "from sklearn.metrics import accuracy_score, confusion_matrix, precision_score, recall_score, ConfusionMatrixDisplay\n",
    "from sklearn.model_selection import RandomizedSearchCV, train_test_split\n",
    "from scipy.stats import randint\n",
    "from imblearn.over_sampling import RandomOverSampler\n",
    "import fsspec"
   ]
  },
  {
   "cell_type": "code",
   "execution_count": 13,
   "id": "4539a17f-f1c9-4198-b3a6-3e13c14974d7",
   "metadata": {
    "tags": []
   },
   "outputs": [],
   "source": [
    "#run this only if you're getting a compatability error with the classifier (joblib); restart kernel afterwards\n",
    "#!pip install --upgrade joblib"
   ]
  },
  {
   "cell_type": "code",
   "execution_count": 14,
   "id": "82376630-6db1-4e3d-bfb9-5471f5b7181d",
   "metadata": {
    "tags": []
   },
   "outputs": [
    {
     "data": {
      "text/html": [
       "<div>\n",
       "<style scoped>\n",
       "    .dataframe tbody tr th:only-of-type {\n",
       "        vertical-align: middle;\n",
       "    }\n",
       "\n",
       "    .dataframe tbody tr th {\n",
       "        vertical-align: top;\n",
       "    }\n",
       "\n",
       "    .dataframe thead th {\n",
       "        text-align: right;\n",
       "    }\n",
       "</style>\n",
       "<table border=\"1\" class=\"dataframe\">\n",
       "  <thead>\n",
       "    <tr style=\"text-align: right;\">\n",
       "      <th></th>\n",
       "      <th>Label</th>\n",
       "      <th>Call Length (s)</th>\n",
       "      <th>Low Freq (kHz)</th>\n",
       "      <th>Delta Freq (kHz)</th>\n",
       "      <th>Frequency Standard Deviation (kHz)</th>\n",
       "      <th>Mean Power (dB/Hz)</th>\n",
       "      <th>Peak Freq (kHz)</th>\n",
       "    </tr>\n",
       "  </thead>\n",
       "  <tbody>\n",
       "    <tr>\n",
       "      <th>0</th>\n",
       "      <td>Complex 2</td>\n",
       "      <td>0.064128</td>\n",
       "      <td>77.470616</td>\n",
       "      <td>23.338153</td>\n",
       "      <td>7.532348</td>\n",
       "      <td>-65.251415</td>\n",
       "      <td>83.367660</td>\n",
       "    </tr>\n",
       "    <tr>\n",
       "      <th>1</th>\n",
       "      <td>Complex 2</td>\n",
       "      <td>0.047500</td>\n",
       "      <td>68.754416</td>\n",
       "      <td>36.293299</td>\n",
       "      <td>8.779526</td>\n",
       "      <td>-79.095868</td>\n",
       "      <td>84.803584</td>\n",
       "    </tr>\n",
       "    <tr>\n",
       "      <th>2</th>\n",
       "      <td>Complex 2</td>\n",
       "      <td>0.070808</td>\n",
       "      <td>78.541667</td>\n",
       "      <td>22.728202</td>\n",
       "      <td>5.927500</td>\n",
       "      <td>-56.629946</td>\n",
       "      <td>83.676158</td>\n",
       "    </tr>\n",
       "    <tr>\n",
       "      <th>3</th>\n",
       "      <td>Complex 2</td>\n",
       "      <td>0.072896</td>\n",
       "      <td>60.697877</td>\n",
       "      <td>36.788754</td>\n",
       "      <td>9.396410</td>\n",
       "      <td>-69.619878</td>\n",
       "      <td>61.616995</td>\n",
       "    </tr>\n",
       "    <tr>\n",
       "      <th>4</th>\n",
       "      <td>Complex 2</td>\n",
       "      <td>0.077220</td>\n",
       "      <td>68.291912</td>\n",
       "      <td>21.647240</td>\n",
       "      <td>5.729276</td>\n",
       "      <td>-60.584904</td>\n",
       "      <td>81.965248</td>\n",
       "    </tr>\n",
       "  </tbody>\n",
       "</table>\n",
       "</div>"
      ],
      "text/plain": [
       "       Label  Call Length (s)  Low Freq (kHz)  Delta Freq (kHz)  \\\n",
       "0  Complex 2         0.064128       77.470616         23.338153   \n",
       "1  Complex 2         0.047500       68.754416         36.293299   \n",
       "2  Complex 2         0.070808       78.541667         22.728202   \n",
       "3  Complex 2         0.072896       60.697877         36.788754   \n",
       "4  Complex 2         0.077220       68.291912         21.647240   \n",
       "\n",
       "   Frequency Standard Deviation (kHz)  Mean Power (dB/Hz)  Peak Freq (kHz)  \n",
       "0                            7.532348          -65.251415        83.367660  \n",
       "1                            8.779526          -79.095868        84.803584  \n",
       "2                            5.927500          -56.629946        83.676158  \n",
       "3                            9.396410          -69.619878        61.616995  \n",
       "4                            5.729276          -60.584904        81.965248  "
      ]
     },
     "execution_count": 14,
     "metadata": {},
     "output_type": "execute_result"
    }
   ],
   "source": [
    "#import training data with syllable characteristics\n",
    "df = pd.read_excel(\"/users/yourusername/folder/file_name.xlsx\")\n",
    "df.head()\n",
    "#you can remove columns unnecessary for training in excel file prior to import or remove using df.drop in next cell\n",
    "#we used call legnth, low freq, delta freq, peak freq, and mean power for classification, but you can use customize\n",
    "#which features you want to include"
   ]
  },
  {
   "cell_type": "markdown",
   "id": "9d903614-4ec6-4a3a-a066-0847dd647d68",
   "metadata": {},
   "source": [
    "### 2. Oversample minority classes\n",
    "##### aka weighing data set to account for unbalanced classes. If you are struggling with low accuracy, precision and/or recall, this is a MUST. "
   ]
  },
  {
   "cell_type": "code",
   "execution_count": 16,
   "id": "8c95eb11-e6ea-4ab7-a1d8-016da18d8197",
   "metadata": {
    "tags": []
   },
   "outputs": [],
   "source": [
    "X = df.drop('Label', axis=1)  #drop the 'Label column' so we are left with only the feature columns for training\n",
    "y = df['Label']  #use the dropped 'Label' column as the training label (aka 'target variable')\n",
    "#data is structured as (X, y) = (features, label)"
   ]
  },
  {
   "cell_type": "code",
   "execution_count": 2,
   "id": "11d13c43-795c-42ee-a4bf-f3cc9460c0dc",
   "metadata": {
    "tags": []
   },
   "outputs": [
    {
     "ename": "NameError",
     "evalue": "name 'X' is not defined",
     "output_type": "error",
     "traceback": [
      "\u001b[0;31m---------------------------------------------------------------------------\u001b[0m",
      "\u001b[0;31mNameError\u001b[0m                                 Traceback (most recent call last)",
      "Cell \u001b[0;32mIn[2], line 5\u001b[0m\n\u001b[1;32m      2\u001b[0m oversampler \u001b[38;5;241m=\u001b[39m RandomOverSampler()\n\u001b[1;32m      4\u001b[0m \u001b[38;5;66;03m#oversample our data (X, y) and make new resampled variables \u001b[39;00m\n\u001b[0;32m----> 5\u001b[0m X_resampled, y_resampled \u001b[38;5;241m=\u001b[39m oversampler\u001b[38;5;241m.\u001b[39mfit_resample(\u001b[43mX\u001b[49m, y)\n",
      "\u001b[0;31mNameError\u001b[0m: name 'X' is not defined"
     ]
    }
   ],
   "source": [
    "#import an oversampler to boost minority classes (ie. call types that aren't as frequently emitted\n",
    "oversampler = RandomOverSampler()\n",
    "\n",
    "#oversample our data (X, y) and make new resampled variables \n",
    "X_resampled, y_resampled = oversampler.fit_resample(X, y)"
   ]
  },
  {
   "cell_type": "markdown",
   "id": "36e823fc-2572-4580-a621-ee876ae5faeb",
   "metadata": {},
   "source": [
    "### 3. Split data into training and testing sets"
   ]
  },
  {
   "cell_type": "code",
   "execution_count": 18,
   "id": "2ba3a819-0924-4993-81e7-bc2449abf128",
   "metadata": {
    "tags": []
   },
   "outputs": [],
   "source": [
    "#if you resampled your data, be sure to use the resampled data as your training set \"(_resampled)\"\n",
    "#this uses 70% of the data as the training dataset, and 30% for testing \n",
    "#you can try different test sizes and random states and select the combo with the best performance \n",
    "X_train, X_test, y_train, y_test = train_test_split(X_resampled, y_resampled, test_size=0.3, random_state=42)"
   ]
  },
  {
   "cell_type": "markdown",
   "id": "9868c481-a0fa-4f03-a8a1-36f314e8b6ad",
   "metadata": {},
   "source": [
    "### 3. Fit and train model"
   ]
  },
  {
   "cell_type": "code",
   "execution_count": 19,
   "id": "5ed4fa56-97ad-41f9-8309-b3e9a228f833",
   "metadata": {
    "tags": []
   },
   "outputs": [
    {
     "name": "stdout",
     "output_type": "stream",
     "text": [
      "                 Accuracy  Precision    Recall\n",
      "Complex          0.977002   0.951456  0.915888\n",
      "Chevron          0.977002   0.985939  1.000000\n",
      "Complex 3        0.977002   0.933759  0.998294\n",
      "Downward         0.977002   0.995370  0.907173\n",
      "Short            0.977002   0.990008  1.000000\n",
      "Flat             0.977002   1.000000  1.000000\n",
      "Complex 2        0.977002   0.985320  1.000000\n",
      "Complex 5        0.977002   0.995161  1.000000\n",
      "Upward           0.977002   0.969497  0.998302\n",
      "Reverse Chevron  0.977002   0.997575  1.000000\n",
      "Complex 4        0.977002   0.944351  0.927152\n"
     ]
    }
   ],
   "source": [
    "rf = RandomForestClassifier()\n",
    "rf.fit(X_train, y_train) #use training data to learn syllable features\n",
    "y_pred = rf.predict(X_test) #test the model's perfomance on unseen feature data  \n",
    "\n",
    "#model performance\n",
    "accuracy = accuracy_score(y_test, y_pred, normalize = True)\n",
    "precision = precision_score(y_test, y_pred, average=None, zero_division=1)\n",
    "recall = recall_score(y_test, y_pred, average=None, zero_division=1)\n",
    "scores_rf = pd.DataFrame({'Accuracy': accuracy, 'Precision': precision, 'Recall': recall},index=y_test.unique())\n",
    "\n",
    "#print performance scores (precision and recall) for each syllable\n",
    "#accuracy is overall accuracy of the model \n",
    "print(scores_rf)"
   ]
  },
  {
   "cell_type": "code",
   "execution_count": 22,
   "id": "0e3a9189-fc3f-4d82-9391-3b95f96c355b",
   "metadata": {
    "tags": []
   },
   "outputs": [
    {
     "data": {
      "text/plain": [
       "['NA_classifier.joblib']"
      ]
     },
     "execution_count": 22,
     "metadata": {},
     "output_type": "execute_result"
    }
   ],
   "source": [
    "#save model\n",
    "joblib.dump(rf, \"yourclassifier.joblib\")"
   ]
  },
  {
   "cell_type": "markdown",
   "id": "449b565e-f9ad-4405-b77e-de8a67d03571",
   "metadata": {},
   "source": [
    "### Optional: Visualize model's performance "
   ]
  },
  {
   "cell_type": "code",
   "execution_count": null,
   "id": "4fdb57ed-0df1-445f-9e64-b88063405968",
   "metadata": {
    "tags": []
   },
   "outputs": [],
   "source": [
    "#count the occurrences of each label in y_test and y_pred\n",
    "label_counts_test = pd.Series(y_test).value_counts().reset_index()\n",
    "label_counts_test.columns = ['True Labels', 'True Count']\n",
    "\n",
    "label_counts_pred = pd.Series(y_pred).value_counts().reset_index()\n",
    "label_counts_pred.columns = ['Predicted', 'Predicted Count']\n",
    "\n",
    "#create a dataframe with predicted labels, true labels, and label counts\n",
    "df = pd.DataFrame({'Predicted': y_pred, 'True Labels': y_test})\n",
    "\n",
    "#merge the label counts for true and predicted labels with the dataframe\n",
    "df = pd.merge(df, label_counts_test, on='True Labels', how='left')\n",
    "df = pd.merge(df, label_counts_pred, on='Predicted', how='left')\n",
    "\n",
    "print(df)\n",
    "#save the dataframe to a CSV file\n",
    "#df.to_csv('labels_comparison_counts.csv', index=False)"
   ]
  },
  {
   "cell_type": "markdown",
   "id": "edab8773-6959-4bec-b5ab-545e4d49a4f0",
   "metadata": {},
   "source": [
    "### Optional: Feature importance\n",
    "##### I used this to determine which features  are the most important for classification to improve the model's performance. Some features aren't important (i.e. non-spectrotemporal properties), and we don't want to confuse the model "
   ]
  },
  {
   "cell_type": "code",
   "execution_count": null,
   "id": "bf700bb2-7e11-4473-8d83-e1e93e71dc0b",
   "metadata": {
    "tags": []
   },
   "outputs": [],
   "source": [
    "importances = rf.feature_importances_\n",
    "feature_names = X.columns.tolist()\n",
    "#Sort the feature importances in descending order\n",
    "indices = np.argsort(importances)[::-1]\n",
    "print(\"Feature ranking:\")\n",
    "for f in range(X.shape[1]):\n",
    "    print(f\"{f + 1}. Feature {feature_names[indices[f]]}: {importances[indices[f]]}\")"
   ]
  },
  {
   "cell_type": "code",
   "execution_count": null,
   "id": "33f19dba-82e7-4192-9151-3aa24842b39e",
   "metadata": {
    "tags": []
   },
   "outputs": [],
   "source": [
    "#if you want to visualize it \n",
    "plt.figure()\n",
    "plt.title(\"Feature Importances\")\n",
    "plt.bar(range(X.shape[1]), importances[indices], align=\"center\")\n",
    "plt.xticks(range(X.shape[1]), [feature_names[i] for i in indices], rotation='vertical')\n",
    "plt.xlabel(\"Feature\")\n",
    "plt.ylabel(\"Importance\")\n",
    "plt.show()"
   ]
  }
 ],
 "metadata": {
  "kernelspec": {
   "display_name": "Python 3 (ipykernel)",
   "language": "python",
   "name": "python3"
  },
  "language_info": {
   "codemirror_mode": {
    "name": "ipython",
    "version": 3
   },
   "file_extension": ".py",
   "mimetype": "text/x-python",
   "name": "python",
   "nbconvert_exporter": "python",
   "pygments_lexer": "ipython3",
   "version": "3.11.3"
  }
 },
 "nbformat": 4,
 "nbformat_minor": 5
}
