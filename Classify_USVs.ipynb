{
 "cells": [
  {
   "cell_type": "code",
   "execution_count": null,
   "id": "3f7043a8-b238-4ded-9a1e-e414fd4dd98c",
   "metadata": {
    "tags": []
   },
   "outputs": [],
   "source": [
    "import os\n",
    "import openpyxl\n",
    "import pandas as pd \n",
    "import numpy as np\n",
    "import sklearn\n",
    "from sklearn import preprocessing\n",
    "from sklearn.ensemble import RandomForestRegressor\n",
    "from sklearn import metrics\n",
    "from sklearn.ensemble import RandomForestClassifier\n",
    "import joblib\n",
    "import fsspec"
   ]
  },
  {
   "cell_type": "code",
   "execution_count": null,
   "id": "5ac7b0fd-344b-4350-bdb3-bc7b1972ed6b",
   "metadata": {
    "tags": []
   },
   "outputs": [],
   "source": [
    "#import model (.joblib file)\n",
    "rf_classifier = joblib.load('yourclassifier.joblib')"
   ]
  },
  {
   "cell_type": "code",
   "execution_count": null,
   "id": "99a4c8c6-f65e-4690-8163-13d612f3fa03",
   "metadata": {
    "tags": []
   },
   "outputs": [],
   "source": [
    "#change path to file location \n",
    "#.../FVB/NOWS_cohort/Age/Litter/Folder_with_stats/pup_stats.xlsx\n",
    "data = pd.read_excel(\"/user/yourusername/datafolder/datafile.xlsx\")"
   ]
  },
  {
   "cell_type": "code",
   "execution_count": null,
   "id": "7052d0ca-4162-4ba3-8e7c-531ccb351343",
   "metadata": {
    "tags": []
   },
   "outputs": [],
   "source": [
    "#remove columns from data file that were not used for training the model \n",
    "columns_to_drop = ['ID','Label', 'Accepted','Score','Begin Time (s)', 'End Time (s)',\n",
    "                   'Principal Frequency (kHz)', 'High Freq (kHz)', 'Slope (kHz/s)',\n",
    "                  'Sinuosity', 'Tonality']            \n",
    "X_test = data.drop(columns_to_drop, axis=1,)  #feature data minus the columns dropped\n",
    "print(X_test)"
   ]
  },
  {
   "cell_type": "code",
   "execution_count": null,
   "id": "3d4ad166-717a-44a8-9c64-91957d055419",
   "metadata": {
    "tags": []
   },
   "outputs": [],
   "source": [
    "#predict syllables using the rf_classifier model\n",
    "predictions = rf_classifier.predict(X_test)\n",
    "print(predictions)"
   ]
  },
  {
   "cell_type": "markdown",
   "id": "a5564ffa-a9df-47da-91fe-e676264c6371",
   "metadata": {
    "tags": []
   },
   "source": [
    "#### save data with predictions as one column and the time they occured (begin time) so you can evaluate syllables emitted over time"
   ]
  },
  {
   "cell_type": "code",
   "execution_count": null,
   "id": "9cf24616-ad27-4e88-bb17-1de5afd38765",
   "metadata": {
    "tags": []
   },
   "outputs": [],
   "source": [
    "df_predictions = pd.DataFrame({'Predictions': predictions})\n",
    "binned_df = pd.DataFrame({\n",
    "    'Begin Time (s)': data['Begin Time (s)'], \n",
    "    'Predictions': predictions\n",
    "})\n",
    "\n",
    "binned_df.to_excel('/users/yourusername/datafolder/pupID_binned.xlsx', index=False)"
   ]
  },
  {
   "cell_type": "markdown",
   "id": "158c2281-7520-405f-b2f4-dee654b0b988",
   "metadata": {
    "tags": []
   },
   "source": [
    "#### save data with syllable counts"
   ]
  },
  {
   "cell_type": "code",
   "execution_count": null,
   "id": "e040b051-8abb-40b5-80eb-a807b6dff513",
   "metadata": {
    "tags": []
   },
   "outputs": [],
   "source": [
    "label_counts = pd.Series(predictions).value_counts().reset_index()\n",
    "\n",
    "label_counts.columns = ['Label', 'Count']\n",
    "\n",
    "label_counts.to_excel('/users/yourusername/datafolder/pupID_counts.xslx', index=False)"
   ]
  }
 ],
 "metadata": {
  "kernelspec": {
   "display_name": "Python 3 (ipykernel)",
   "language": "python",
   "name": "python3"
  },
  "language_info": {
   "codemirror_mode": {
    "name": "ipython",
    "version": 3
   },
   "file_extension": ".py",
   "mimetype": "text/x-python",
   "name": "python",
   "nbconvert_exporter": "python",
   "pygments_lexer": "ipython3",
   "version": "3.11.3"
  }
 },
 "nbformat": 4,
 "nbformat_minor": 5
}
